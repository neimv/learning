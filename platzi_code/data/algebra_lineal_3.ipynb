{
 "cells": [
  {
   "cell_type": "code",
   "execution_count": 1,
   "metadata": {},
   "outputs": [],
   "source": [
    "import numpy as np"
   ]
  },
  {
   "cell_type": "code",
   "execution_count": 3,
   "metadata": {},
   "outputs": [
    {
     "data": {
      "text/plain": [
       "5.0"
      ]
     },
     "execution_count": 3,
     "metadata": {},
     "output_type": "execute_result"
    }
   ],
   "source": [
    "vector = np.array([-50, -25, 0, 25, 100, -300])\n",
    "norma_0 = np.linalg.norm(vector, ord=0)\n",
    "norma_0"
   ]
  },
  {
   "cell_type": "code",
   "execution_count": 6,
   "metadata": {},
   "outputs": [
    {
     "data": {
      "text/plain": [
       "array([0.75, 7.25])"
      ]
     },
     "execution_count": 6,
     "metadata": {},
     "output_type": "execute_result"
    }
   ],
   "source": [
    "A = np.array([[7, -1], [3, -1]])\n",
    "b = np.array([-2, -5])\n",
    "\n",
    "x = np.linalg.solve(A, b)\n",
    "x"
   ]
  },
  {
   "cell_type": "code",
   "execution_count": 8,
   "metadata": {},
   "outputs": [
    {
     "data": {
      "text/plain": [
       "(array([[14, 18],\n",
       "        [38, 45]]), '.......', array([[11, 16, 21],\n",
       "        [24, 33, 42],\n",
       "        [ 9, 12, 15]]))"
      ]
     },
     "execution_count": 8,
     "metadata": {},
     "output_type": "execute_result"
    }
   ],
   "source": [
    "A = np.array(\n",
    "    [[1, 2, 3],\n",
    "    [4, 5, 6]]\n",
    ")\n",
    "B = np.array(\n",
    "    [[3, 2],\n",
    "    [4, 5],\n",
    "    [1, 2]]\n",
    ")\n",
    "\n",
    "C = A.dot(B)\n",
    "D = B.dot(A)\n",
    "\n",
    "C, \".......\", D"
   ]
  },
  {
   "cell_type": "code",
   "execution_count": 9,
   "metadata": {},
   "outputs": [
    {
     "data": {
      "text/plain": [
       "array([[ 1,  5,  9],\n",
       "       [ 2,  6, 10],\n",
       "       [ 3,  7, 11],\n",
       "       [ 4,  8, 12]])"
      ]
     },
     "execution_count": 9,
     "metadata": {},
     "output_type": "execute_result"
    }
   ],
   "source": [
    "A = np.array(\n",
    "    [[1,2,3,4],\n",
    "    [5,6,7,8],\n",
    "    [9,10,11,12]]\n",
    ")\n",
    "\n",
    "A.T"
   ]
  },
  {
   "cell_type": "code",
   "execution_count": 10,
   "metadata": {},
   "outputs": [
    {
     "name": "stdout",
     "output_type": "stream",
     "text": [
      "90.0\n"
     ]
    }
   ],
   "source": [
    "def angle_between(v1, v2):\n",
    "    dot_pr = v1.dot(v2)\n",
    "    norms = np.linalg.norm(v1) * np.linalg.norm(v2)\n",
    " \n",
    "    return np.rad2deg(np.arccos(dot_pr / norms))\n",
    "\n",
    "a = np.array([0, 1])\n",
    "b = np.array([1, 0])\n",
    "\n",
    "print(angle_between(a, b))"
   ]
  },
  {
   "cell_type": "code",
   "execution_count": 12,
   "metadata": {},
   "outputs": [
    {
     "data": {
      "text/plain": [
       "(array([[4, 6],\n",
       "        [8, 9]]), array([[4, 6],\n",
       "        [8, 9]]))"
      ]
     },
     "execution_count": 12,
     "metadata": {},
     "output_type": "execute_result"
    }
   ],
   "source": [
    "M = np.array(\n",
    "    [[1, 3],\n",
    "    [5, 6]]\n",
    ")\n",
    "v = np.array([[3], [3]])\n",
    "\n",
    "A = M + 3\n",
    "B = M + v\n",
    "\n",
    "A, B"
   ]
  },
  {
   "cell_type": "code",
   "execution_count": 14,
   "metadata": {},
   "outputs": [
    {
     "data": {
      "text/plain": [
       "(array([[1, 3],\n",
       "        [5, 6]]), array([[1, 3],\n",
       "        [5, 6]]), array([[ 9,  4],\n",
       "        [27, 11]]), array([[ 8, 15],\n",
       "        [ 7, 12]]))"
      ]
     },
     "execution_count": 14,
     "metadata": {},
     "output_type": "execute_result"
    }
   ],
   "source": [
    "M2 = np.array(\n",
    "    [[1, 0],\n",
    "    [0, 1]]\n",
    ")\n",
    "M3 = np.array(\n",
    "    [[3, 1],\n",
    "    [2, 1]]\n",
    ")\n",
    "\n",
    "A = M.dot(M2)\n",
    "B = M2.dot(M)\n",
    "C = M.dot(M3)\n",
    "D = M3.dot(M)\n",
    "\n",
    "A, B, C, D"
   ]
  },
  {
   "cell_type": "code",
   "execution_count": 16,
   "metadata": {},
   "outputs": [
    {
     "data": {
      "text/plain": [
       "1.0"
      ]
     },
     "execution_count": 16,
     "metadata": {},
     "output_type": "execute_result"
    }
   ],
   "source": [
    "V = np.array([1/2, 1/2, 1/2, 1/2])\n",
    "np.linalg.norm(V)"
   ]
  },
  {
   "cell_type": "code",
   "execution_count": 19,
   "metadata": {},
   "outputs": [
    {
     "data": {
      "text/plain": [
       "(0, 0, 3, 3)"
      ]
     },
     "execution_count": 19,
     "metadata": {},
     "output_type": "execute_result"
    }
   ],
   "source": [
    "M = np.array(\n",
    "    [[7, -7, 3],\n",
    "    [1, 1, 0],\n",
    "    [0, 0, 1]]\n",
    ")\n",
    "\n",
    "V_1 = M[0, :].dot(M[1, :])\n",
    "V_2 = M[1, :].dot(M[2, :])\n",
    "V_3 = M[2, :].dot(M[0, :])\n",
    "V_4 = M[2, :].dot(M[0, :])\n",
    "V_1, V_2, V_3, V_4"
   ]
  },
  {
   "cell_type": "code",
   "execution_count": 20,
   "metadata": {},
   "outputs": [
    {
     "data": {
      "text/plain": [
       "120"
      ]
     },
     "execution_count": 20,
     "metadata": {},
     "output_type": "execute_result"
    }
   ],
   "source": [
    "M = np.array(\n",
    "    [[1,0,0,0,0],\n",
    "    [0,2,0,0,0],\n",
    "    [0,0,3,0,0],\n",
    "    [0,0,0,4,0],\n",
    "    [0,0,0,0,5]]\n",
    ")\n",
    "\n",
    "1 * 2 * 3 * 4 * 5"
   ]
  },
  {
   "cell_type": "code",
   "execution_count": 22,
   "metadata": {},
   "outputs": [
    {
     "data": {
      "text/plain": [
       "array([ 5, 14,  7])"
      ]
     },
     "execution_count": 22,
     "metadata": {},
     "output_type": "execute_result"
    }
   ],
   "source": [
    "M = np.array(\n",
    "    [[1, 2],\n",
    "    [4, 5],\n",
    "    [3, 2]]\n",
    ")\n",
    "V = np.array([1, 2])\n",
    "\n",
    "N = M.dot(V)\n",
    "\n",
    "N"
   ]
  },
  {
   "cell_type": "code",
   "execution_count": null,
   "metadata": {},
   "outputs": [],
   "source": []
  }
 ],
 "metadata": {
  "kernelspec": {
   "display_name": "Python 3",
   "language": "python",
   "name": "python3"
  },
  "language_info": {
   "codemirror_mode": {
    "name": "ipython",
    "version": 3
   },
   "file_extension": ".py",
   "mimetype": "text/x-python",
   "name": "python",
   "nbconvert_exporter": "python",
   "pygments_lexer": "ipython3",
   "version": "3.6.7"
  }
 },
 "nbformat": 4,
 "nbformat_minor": 2
}
