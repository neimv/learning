{
 "cells": [
  {
   "cell_type": "code",
   "execution_count": 6,
   "metadata": {},
   "outputs": [],
   "source": [
    "import numpy as np\n",
    "import matplotlib.pyplot as plt"
   ]
  },
  {
   "cell_type": "code",
   "execution_count": 7,
   "metadata": {},
   "outputs": [],
   "source": [
    "def estimate_b0_b1(x, y):\n",
    "    n = np.size(x)\n",
    "    # Calculo de promedios de 'x' y 'y'\n",
    "    m_x, m_y = np.mean(x), np.mean(y)\n",
    "    # Calcular sumatoria de 'XY' y sumatoria de 'XX'\n",
    "    sumatoria_xy = np.sum((x - m_x) * (y - m_y))\n",
    "    sumatoria_xx = np.sum(x * (x - m_x))\n",
    "    \n",
    "    # Coeficientes de regresion\n",
    "    b_1 = sumatoria_xy / sumatoria_xx\n",
    "    b_0 = m_y - b_1 * m_x\n",
    "    \n",
    "    return b_0, b_1"
   ]
  },
  {
   "cell_type": "markdown",
   "metadata": {},
   "source": [
    "Funcion de graficado"
   ]
  },
  {
   "cell_type": "code",
   "execution_count": 8,
   "metadata": {},
   "outputs": [],
   "source": [
    "def plot_regression(x, y, b):\n",
    "    plt.scatter(x, y, color='b', marker=\"o\", s=30)\n",
    "    \n",
    "    y_pred = b[0] + b[1] * x\n",
    "    plt.plot(x, y_pred, color='r')\n",
    "    \n",
    "    # etiquetado\n",
    "    plt.xlabel('x-Independiente')\n",
    "    plt.ylabel('y-Dependeinte')\n",
    "    \n",
    "    plt.show()"
   ]
  },
  {
   "cell_type": "markdown",
   "metadata": {},
   "source": [
    "Codigo main"
   ]
  },
  {
   "cell_type": "code",
   "execution_count": 9,
   "metadata": {},
   "outputs": [],
   "source": [
    "def main():\n",
    "    # Dataset\n",
    "    x = np.array([1, 2, 3, 4, 5])\n",
    "    y = np.array([2, 3, 5, 6, 5])\n",
    "    \n",
    "    # Obtenemos b1 y b2\n",
    "    b = estimate_b0_b1(x, y)\n",
    "    print(f\"Los valores b0 = {b[0]}, b1 = {b[1]}\")\n",
    "    \n",
    "    # Graficamos nuestra linea de regresion\n",
    "    plot_regression(x, y, b)"
   ]
  },
  {
   "cell_type": "code",
   "execution_count": 10,
   "metadata": {},
   "outputs": [
    {
     "name": "stdout",
     "output_type": "stream",
     "text": [
      "Los valores b0 = 1.5, b1 = 0.9\n"
     ]
    },
    {
     "data": {
      "image/png": "[encoded data removed]",
      "text/plain": [
       "<Figure size 432x288 with 1 Axes>"
      ]
     },
     "metadata": {
      "needs_background": "light"
     },
     "output_type": "display_data"
    }
   ],
   "source": [
    "if __name__ == \"__main__\":\n",
    "    main()"
   ]
  }
 ],
 "metadata": {
  "kernelspec": {
   "display_name": "Python 3",
   "language": "python",
   "name": "python3"
  },
  "language_info": {
   "codemirror_mode": {
    "name": "ipython",
    "version": 3
   },
   "file_extension": ".py",
   "mimetype": "text/x-python",
   "name": "python",
   "nbconvert_exporter": "python",
   "pygments_lexer": "ipython3",
   "version": "3.6.7"
  }
 },
 "nbformat": 4,
 "nbformat_minor": 2
}
