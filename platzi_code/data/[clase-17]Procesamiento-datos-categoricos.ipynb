{
 "cells": [
  {
   "cell_type": "code",
   "execution_count": null,
   "metadata": {
    "cell_id": "00000-4d5699f2-4c6d-425c-9ea2-639ccc422819",
    "deepnote_cell_type": "code",
    "deepnote_to_be_reexecuted": false,
    "execution_millis": 111,
    "execution_start": 1620312740405,
    "source_hash": "97181945",
    "tags": []
   },
   "outputs": [],
   "source": [
    "import pandas as pd \n",
    "\n",
    "df = pd.read_csv('cars.csv')"
   ]
  },
  {
   "cell_type": "markdown",
   "metadata": {
    "cell_id": "00001-96af3ef4-965c-415e-87f6-c479bcbab7d0",
    "deepnote_cell_type": "markdown",
    "tags": []
   },
   "source": [
    "Pandas dummies: https://pandas.pydata.org/docs/reference/api/pandas.get_dummies.html"
   ]
  },
  {
   "cell_type": "code",
   "execution_count": null,
   "metadata": {
    "cell_id": "00001-87f4c1e7-2fec-4826-afe2-4f05ba58bb70",
    "deepnote_cell_type": "code",
    "deepnote_to_be_reexecuted": false,
    "execution_millis": 55,
    "execution_start": 1620312789368,
    "output_cleared": false,
    "source_hash": "48707498",
    "tags": []
   },
   "outputs": [
    {
     "data": {
      "application/vnd.deepnote.dataframe.v2+json": {
       "column_count": 3,
       "columns": [
        {
         "dtype": "uint8",
         "name": "diesel",
         "stats": {
          "histogram": [
           {
            "bin_end": 0.1,
            "bin_start": 0,
            "count": 25657
           },
           {
            "bin_end": 0.2,
            "bin_start": 0.1,
            "count": 0
           },
           {
            "bin_end": 0.30000000000000004,
            "bin_start": 0.2,
            "count": 0
           },
           {
            "bin_end": 0.4,
            "bin_start": 0.30000000000000004,
            "count": 0
           },
           {
            "bin_end": 0.5,
            "bin_start": 0.4,
            "count": 0
           },
           {
            "bin_end": 0.6000000000000001,
            "bin_start": 0.5,
            "count": 0
           },
           {
            "bin_end": 0.7000000000000001,
            "bin_start": 0.6000000000000001,
            "count": 0
           },
           {
            "bin_end": 0.8,
            "bin_start": 0.7000000000000001,
            "count": 0
           },
           {
            "bin_end": 0.9,
            "bin_start": 0.8,
            "count": 0
           },
           {
            "bin_end": 1,
            "bin_start": 0.9,
            "count": 12874
           }
          ],
          "max": "1",
          "min": "0",
          "nan_count": 0,
          "unique_count": 2
         }
        },
        {
         "dtype": "uint8",
         "name": "electric",
         "stats": {
          "histogram": [
           {
            "bin_end": 0.1,
            "bin_start": 0,
            "count": 38521
           },
           {
            "bin_end": 0.2,
            "bin_start": 0.1,
            "count": 0
           },
           {
            "bin_end": 0.30000000000000004,
            "bin_start": 0.2,
            "count": 0
           },
           {
            "bin_end": 0.4,
            "bin_start": 0.30000000000000004,
            "count": 0
           },
           {
            "bin_end": 0.5,
            "bin_start": 0.4,
            "count": 0
           },
           {
            "bin_end": 0.6000000000000001,
            "bin_start": 0.5,
            "count": 0
           },
           {
            "bin_end": 0.7000000000000001,
            "bin_start": 0.6000000000000001,
            "count": 0
           },
           {
            "bin_end": 0.8,
            "bin_start": 0.7000000000000001,
            "count": 0
           },
           {
            "bin_end": 0.9,
            "bin_start": 0.8,
            "count": 0
           },
           {
            "bin_end": 1,
            "bin_start": 0.9,
            "count": 10
           }
          ],
          "max": "1",
          "min": "0",
          "nan_count": 0,
          "unique_count": 2
         }
        },
        {
         "dtype": "uint8",
         "name": "gasoline"
        },
        {
         "dtype": "int64",
         "name": "_deepnote_index_column"
        }
       ],
       "row_count": 38531,
       "rows_bottom": [
        {
         "_deepnote_index_column": 38364,
         "diesel": 0,
         "electric": 0,
         "gasoline": 1
        },
        {
         "_deepnote_index_column": 38365,
         "diesel": 0,
         "electric": 0,
         "gasoline": 1
        },
        {
         "_deepnote_index_column": 38366,
         "diesel": 0,
         "electric": 0,
         "gasoline": 1
        },
        {
         "_deepnote_index_column": 38367,
         "diesel": 0,
         "electric": 0,
         "gasoline": 1
        },
        {
         "_deepnote_index_column": 38368,
         "diesel": 0,
         "electric": 0,
         "gasoline": 1
        },
        {
         "_deepnote_index_column": 38369,
         "diesel": 0,
         "electric": 0,
         "gasoline": 1
        },
        {
         "_deepnote_index_column": 38370,
         "diesel": 0,
         "electric": 0,
         "gasoline": 1
        },
        {
         "_deepnote_index_column": 38371,
         "diesel": 1,
         "electric": 0,
         "gasoline": 0
        },
        {
         "_deepnote_index_column": 38372,
         "diesel": 0,
         "electric": 0,
         "gasoline": 1
        },
        {
         "_deepnote_index_column": 38373,
         "diesel": 0,
         "electric": 0,
         "gasoline": 1
        },
        {
         "_deepnote_index_column": 38374,
         "diesel": 0,
         "electric": 0,
         "gasoline": 1
        },
        {
         "_deepnote_index_column": 38375,
         "diesel": 0,
         "electric": 0,
         "gasoline": 1
        },
        {
         "_deepnote_index_column": 38376,
         "diesel": 0,
         "electric": 0,
         "gasoline": 1
        },
        {
         "_deepnote_index_column": 38377,
         "diesel": 0,
         "electric": 0,
         "gasoline": 1
        },
        {
         "_deepnote_index_column": 38378,
         "diesel": 0,
         "electric": 0,
         "gasoline": 1
        },
        {
         "_deepnote_index_column": 38379,
         "diesel": 0,
         "electric": 0,
         "gasoline": 1
        },
        {
         "_deepnote_index_column": 38380,
         "diesel": 0,
         "electric": 0,
         "gasoline": 1
        },
        {
         "_deepnote_index_column": 38381,
         "diesel": 1,
         "electric": 0,
         "gasoline": 0
        },
        {
         "_deepnote_index_column": 38382,
         "diesel": 0,
         "electric": 0,
         "gasoline": 1
        },
        {
         "_deepnote_index_column": 38383,
         "diesel": 0,
         "electric": 0,
         "gasoline": 1
        },
        {
         "_deepnote_index_column": 38384,
         "diesel": 1,
         "electric": 0,
         "gasoline": 0
        },
        {
         "_deepnote_index_column": 38385,
         "diesel": 0,
         "electric": 0,
         "gasoline": 1
        },
        {
         "_deepnote_index_column": 38386,
         "diesel": 1,
         "electric": 0,
         "gasoline": 0
        },
        {
         "_deepnote_index_column": 38387,
         "diesel": 0,
         "electric": 0,
         "gasoline": 1
        },
        {
         "_deepnote_index_column": 38388,
         "diesel": 1,
         "electric": 0,
         "gasoline": 0
        },
        {
         "_deepnote_index_column": 38389,
         "diesel": 0,
         "electric": 0,
         "gasoline": 1
        },
        {
         "_deepnote_index_column": 38390,
         "diesel": 0,
         "electric": 0,
         "gasoline": 1
        },
        {
         "_deepnote_index_column": 38391,
         "diesel": 0,
         "electric": 0,
         "gasoline": 1
        },
        {
         "_deepnote_index_column": 38392,
         "diesel": 1,
         "electric": 0,
         "gasoline": 0
        },
        {
         "_deepnote_index_column": 38393,
         "diesel": 0,
         "electric": 0,
         "gasoline": 1
        },
        {
         "_deepnote_index_column": 38394,
         "diesel": 1,
         "electric": 0,
         "gasoline": 0
        },
        {
         "_deepnote_index_column": 38395,
         "diesel": 1,
         "electric": 0,
         "gasoline": 0
        },
        {
         "_deepnote_index_column": 38396,
         "diesel": 0,
         "electric": 0,
         "gasoline": 1
        },
        {
         "_deepnote_index_column": 38397,
         "diesel": 0,
         "electric": 0,
         "gasoline": 1
        },
        {
         "_deepnote_index_column": 38398,
         "diesel": 1,
         "electric": 0,
         "gasoline": 0
        },
        {
         "_deepnote_index_column": 38399,
         "diesel": 0,
         "electric": 0,
         "gasoline": 1
        },
        {
         "_deepnote_index_column": 38400,
         "diesel": 0,
         "electric": 0,
         "gasoline": 1
        },
        {
         "_deepnote_index_column": 38401,
         "diesel": 0,
         "electric": 0,
         "gasoline": 1
        },
        {
         "_deepnote_index_column": 38402,
         "diesel": 0,
         "electric": 0,
         "gasoline": 1
        },
        {
         "_deepnote_index_column": 38403,
         "diesel": 0,
         "electric": 0,
         "gasoline": 1
        },
        {
         "_deepnote_index_column": 38404,
         "diesel": 0,
         "electric": 0,
         "gasoline": 1
        },
        {
         "_deepnote_index_column": 38405,
         "diesel": 0,
         "electric": 0,
         "gasoline": 1
        },
        {
         "_deepnote_index_column": 38406,
         "diesel": 0,
         "electric": 0,
         "gasoline": 1
        },
        {
         "_deepnote_index_column": 38407,
         "diesel": 0,
         "electric": 0,
         "gasoline": 1
        },
        {
         "_deepnote_index_column": 38408,
         "diesel": 0,
         "electric": 0,
         "gasoline": 1
        },
        {
         "_deepnote_index_column": 38409,
         "diesel": 0,
         "electric": 0,
         "gasoline": 1
        },
        {
         "_deepnote_index_column": 38410,
         "diesel": 0,
         "electric": 0,
         "gasoline": 1
        },
        {
         "_deepnote_index_column": 38411,
         "diesel": 0,
         "electric": 0,
         "gasoline": 1
        },
        {
         "_deepnote_index_column": 38412,
         "diesel": 0,
         "electric": 0,
         "gasoline": 1
        },
        {
         "_deepnote_index_column": 38413,
         "diesel": 0,
         "electric": 0,
         "gasoline": 1
        },
        {
         "_deepnote_index_column": 38414,
         "diesel": 0,
         "electric": 0,
         "gasoline": 1
        },
        {
         "_deepnote_index_column": 38415,
         "diesel": 1,
         "electric": 0,
         "gasoline": 0
        },
        {
         "_deepnote_index_column": 38416,
         "diesel": 0,
         "electric": 0,
         "gasoline": 1
        },
        {
         "_deepnote_index_column": 38417,
         "diesel": 0,
         "electric": 0,
         "gasoline": 1
        },
        {
         "_deepnote_index_column": 38418,
         "diesel": 1,
         "electric": 0,
         "gasoline": 0
        },
        {
         "_deepnote_index_column": 38419,
         "diesel": 0,
         "electric": 0,
         "gasoline": 1
        },
        {
         "_deepnote_index_column": 38420,
         "diesel": 0,
         "electric": 0,
         "gasoline": 1
        },
        {
         "_deepnote_index_column": 38421,
         "diesel": 1,
         "electric": 0,
         "gasoline": 0
        },
        {
         "_deepnote_index_column": 38422,
         "diesel": 1,
         "electric": 0,
         "gasoline": 0
        },
        {
         "_deepnote_index_column": 38423,
         "diesel": 0,
         "electric": 0,
         "gasoline": 1
        },
        {
         "_deepnote_index_column": 38424,
         "diesel": 1,
         "electric": 0,
         "gasoline": 0
        },
        {
         "_deepnote_index_column": 38425,
         "diesel": 0,
         "electric": 0,
         "gasoline": 1
        },
        {
         "_deepnote_index_column": 38426,
         "diesel": 0,
         "electric": 0,
         "gasoline": 1
        },
        {
         "_deepnote_index_column": 38427,
         "diesel": 1,
         "electric": 0,
         "gasoline": 0
        },
        {
         "_deepnote_index_column": 38428,
         "diesel": 0,
         "electric": 0,
         "gasoline": 1
        },
        {
         "_deepnote_index_column": 38429,
         "diesel": 0,
         "electric": 0,
         "gasoline": 1
        },
        {
         "_deepnote_index_column": 38430,
         "diesel": 0,
         "electric": 0,
         "gasoline": 1
        },
        {
         "_deepnote_index_column": 38431,
         "diesel": 0,
         "electric": 0,
         "gasoline": 1
        },
        {
         "_deepnote_index_column": 38432,
         "diesel": 1,
         "electric": 0,
         "gasoline": 0
        },
        {
         "_deepnote_index_column": 38433,
         "diesel": 0,
         "electric": 0,
         "gasoline": 1
        },
        {
         "_deepnote_index_column": 38434,
         "diesel": 0,
         "electric": 0,
         "gasoline": 1
        },
        {
         "_deepnote_index_column": 38435,
         "diesel": 0,
         "electric": 0,
         "gasoline": 1
        },
        {
         "_deepnote_index_column": 38436,
         "diesel": 0,
         "electric": 0,
         "gasoline": 1
        },
        {
         "_deepnote_index_column": 38437,
         "diesel": 0,
         "electric": 0,
         "gasoline": 1
        },
        {
         "_deepnote_index_column": 38438,
         "diesel": 1,
         "electric": 0,
         "gasoline": 0
        },
        {
         "_deepnote_index_column": 38439,
         "diesel": 0,
         "electric": 0,
         "gasoline": 1
        },
        {
         "_deepnote_index_column": 38440,
         "diesel": 0,
         "electric": 0,
         "gasoline": 1
        },
        {
         "_deepnote_index_column": 38441,
         "diesel": 1,
         "electric": 0,
         "gasoline": 0
        },
        {
         "_deepnote_index_column": 38442,
         "diesel": 0,
         "electric": 0,
         "gasoline": 1
        },
        {
         "_deepnote_index_column": 38443,
         "diesel": 0,
         "electric": 0,
         "gasoline": 1
        },
        {
         "_deepnote_index_column": 38444,
         "diesel": 1,
         "electric": 0,
         "gasoline": 0
        },
        {
         "_deepnote_index_column": 38445,
         "diesel": 0,
         "electric": 0,
         "gasoline": 1
        },
        {
         "_deepnote_index_column": 38446,
         "diesel": 0,
         "electric": 0,
         "gasoline": 1
        },
        {
         "_deepnote_index_column": 38447,
         "diesel": 0,
         "electric": 0,
         "gasoline": 1
        },
        {
         "_deepnote_index_column": 38448,
         "diesel": 0,
         "electric": 0,
         "gasoline": 1
        },
        {
         "_deepnote_index_column": 38449,
         "diesel": 0,
         "electric": 0,
         "gasoline": 1
        },
        {
         "_deepnote_index_column": 38450,
         "diesel": 0,
         "electric": 0,
         "gasoline": 1
        },
        {
         "_deepnote_index_column": 38451,
         "diesel": 1,
         "electric": 0,
         "gasoline": 0
        },
        {
         "_deepnote_index_column": 38452,
         "diesel": 0,
         "electric": 0,
         "gasoline": 1
        },
        {
         "_deepnote_index_column": 38453,
         "diesel": 0,
         "electric": 0,
         "gasoline": 1
        },
        {
         "_deepnote_index_column": 38454,
         "diesel": 0,
         "electric": 0,
         "gasoline": 1
        },
        {
         "_deepnote_index_column": 38455,
         "diesel": 0,
         "electric": 0,
         "gasoline": 1
        },
        {
         "_deepnote_index_column": 38456,
         "diesel": 0,
         "electric": 0,
         "gasoline": 1
        },
        {
         "_deepnote_index_column": 38457,
         "diesel": 0,
         "electric": 0,
         "gasoline": 1
        },
        {
         "_deepnote_index_column": 38458,
         "diesel": 0,
         "electric": 0,
         "gasoline": 1
        },
        {
         "_deepnote_index_column": 38459,
         "diesel": 0,
         "electric": 0,
         "gasoline": 1
        },
        {
         "_deepnote_index_column": 38460,
         "diesel": 0,
         "electric": 0,
         "gasoline": 1
        },
        {
         "_deepnote_index_column": 38461,
         "diesel": 0,
         "electric": 0,
         "gasoline": 1
        },
        {
         "_deepnote_index_column": 38462,
         "diesel": 0,
         "electric": 0,
         "gasoline": 1
        },
        {
         "_deepnote_index_column": 38463,
         "diesel": 0,
         "electric": 0,
         "gasoline": 1
        },
        {
         "_deepnote_index_column": 38464,
         "diesel": 0,
         "electric": 0,
         "gasoline": 1
        },
        {
         "_deepnote_index_column": 38465,
         "diesel": 0,
         "electric": 0,
         "gasoline": 1
        },
        {
         "_deepnote_index_column": 38466,
         "diesel": 0,
         "electric": 0,
         "gasoline": 1
        },
        {
         "_deepnote_index_column": 38467,
         "diesel": 0,
         "electric": 0,
         "gasoline": 1
        },
        {
         "_deepnote_index_column": 38468,
         "diesel": 0,
         "electric": 0,
         "gasoline": 1
        },
        {
         "_deepnote_index_column": 38469,
         "diesel": 0,
         "electric": 0,
         "gasoline": 1
        },
        {
         "_deepnote_index_column": 38470,
         "diesel": 0,
         "electric": 0,
         "gasoline": 1
        },
        {
         "_deepnote_index_column": 38471,
         "diesel": 1,
         "electric": 0,
         "gasoline": 0
        },
        {
         "_deepnote_index_column": 38472,
         "diesel": 0,
         "electric": 0,
         "gasoline": 1
        },
        {
         "_deepnote_index_column": 38473,
         "diesel": 1,
         "electric": 0,
         "gasoline": 0
        },
        {
         "_deepnote_index_column": 38474,
         "diesel": 0,
         "electric": 0,
         "gasoline": 1
        },
        {
         "_deepnote_index_column": 38475,
         "diesel": 0,
         "electric": 0,
         "gasoline": 1
        },
        {
         "_deepnote_index_column": 38476,
         "diesel": 1,
         "electric": 0,
         "gasoline": 0
        },
        {
         "_deepnote_index_column": 38477,
         "diesel": 0,
         "electric": 0,
         "gasoline": 1
        },
        {
         "_deepnote_index_column": 38478,
         "diesel": 0,
         "electric": 0,
         "gasoline": 1
        },
        {
         "_deepnote_index_column": 38479,
         "diesel": 0,
         "electric": 0,
         "gasoline": 1
        },
        {
         "_deepnote_index_column": 38480,
         "diesel": 0,
         "electric": 0,
         "gasoline": 1
        },
        {
         "_deepnote_index_column": 38481,
         "diesel": 0,
         "electric": 0,
         "gasoline": 1
        },
        {
         "_deepnote_index_column": 38482,
         "diesel": 0,
         "electric": 0,
         "gasoline": 1
        },
        {
         "_deepnote_index_column": 38483,
         "diesel": 0,
         "electric": 0,
         "gasoline": 1
        },
        {
         "_deepnote_index_column": 38484,
         "diesel": 1,
         "electric": 0,
         "gasoline": 0
        },
        {
         "_deepnote_index_column": 38485,
         "diesel": 0,
         "electric": 0,
         "gasoline": 1
        },
        {
         "_deepnote_index_column": 38486,
         "diesel": 0,
         "electric": 0,
         "gasoline": 1
        },
        {
         "_deepnote_index_column": 38487,
         "diesel": 0,
         "electric": 0,
         "gasoline": 1
        },
        {
         "_deepnote_index_column": 38488,
         "diesel": 1,
         "electric": 0,
         "gasoline": 0
        },
        {
         "_deepnote_index_column": 38489,
         "diesel": 0,
         "electric": 0,
         "gasoline": 1
        },
        {
         "_deepnote_index_column": 38490,
         "diesel": 0,
         "electric": 0,
         "gasoline": 1
        },
        {
         "_deepnote_index_column": 38491,
         "diesel": 0,
         "electric": 0,
         "gasoline": 1
        },
        {
         "_deepnote_index_column": 38492,
         "diesel": 1,
         "electric": 0,
         "gasoline": 0
        },
        {
         "_deepnote_index_column": 38493,
         "diesel": 0,
         "electric": 0,
         "gasoline": 1
        },
        {
         "_deepnote_index_column": 38494,
         "diesel": 1,
         "electric": 0,
         "gasoline": 0
        },
        {
         "_deepnote_index_column": 38495,
         "diesel": 0,
         "electric": 0,
         "gasoline": 1
        },
        {
         "_deepnote_index_column": 38496,
         "diesel": 0,
         "electric": 0,
         "gasoline": 1
        },
        {
         "_deepnote_index_column": 38497,
         "diesel": 0,
         "electric": 0,
         "gasoline": 1
        },
        {
         "_deepnote_index_column": 38498,
         "diesel": 0,
         "electric": 0,
         "gasoline": 1
        },
        {
         "_deepnote_index_column": 38499,
         "diesel": 0,
         "electric": 0,
         "gasoline": 1
        },
        {
         "_deepnote_index_column": 38500,
         "diesel": 0,
         "electric": 0,
         "gasoline": 1
        },
        {
         "_deepnote_index_column": 38501,
         "diesel": 0,
         "electric": 0,
         "gasoline": 1
        },
        {
         "_deepnote_index_column": 38502,
         "diesel": 0,
         "electric": 0,
         "gasoline": 1
        },
        {
         "_deepnote_index_column": 38503,
         "diesel": 0,
         "electric": 0,
         "gasoline": 1
        },
        {
         "_deepnote_index_column": 38504,
         "diesel": 1,
         "electric": 0,
         "gasoline": 0
        },
        {
         "_deepnote_index_column": 38505,
         "diesel": 0,
         "electric": 0,
         "gasoline": 1
        },
        {
         "_deepnote_index_column": 38506,
         "diesel": 1,
         "electric": 0,
         "gasoline": 0
        },
        {
         "_deepnote_index_column": 38507,
         "diesel": 1,
         "electric": 0,
         "gasoline": 0
        },
        {
         "_deepnote_index_column": 38508,
         "diesel": 0,
         "electric": 0,
         "gasoline": 1
        },
        {
         "_deepnote_index_column": 38509,
         "diesel": 0,
         "electric": 0,
         "gasoline": 1
        },
        {
         "_deepnote_index_column": 38510,
         "diesel": 0,
         "electric": 0,
         "gasoline": 1
        },
        {
         "_deepnote_index_column": 38511,
         "diesel": 0,
         "electric": 0,
         "gasoline": 1
        },
        {
         "_deepnote_index_column": 38512,
         "diesel": 0,
         "electric": 0,
         "gasoline": 1
        },
        {
         "_deepnote_index_column": 38513,
         "diesel": 0,
         "electric": 0,
         "gasoline": 1
        },
        {
         "_deepnote_index_column": 38514,
         "diesel": 0,
         "electric": 0,
         "gasoline": 1
        },
        {
         "_deepnote_index_column": 38515,
         "diesel": 0,
         "electric": 0,
         "gasoline": 1
        },
        {
         "_deepnote_index_column": 38516,
         "diesel": 0,
         "electric": 0,
         "gasoline": 1
        },
        {
         "_deepnote_index_column": 38517,
         "diesel": 1,
         "electric": 0,
         "gasoline": 0
        },
        {
         "_deepnote_index_column": 38518,
         "diesel": 0,
         "electric": 0,
         "gasoline": 1
        },
        {
         "_deepnote_index_column": 38519,
         "diesel": 0,
         "electric": 0,
         "gasoline": 1
        },
        {
         "_deepnote_index_column": 38520,
         "diesel": 1,
         "electric": 0,
         "gasoline": 0
        },
        {
         "_deepnote_index_column": 38521,
         "diesel": 0,
         "electric": 0,
         "gasoline": 1
        },
        {
         "_deepnote_index_column": 38522,
         "diesel": 0,
         "electric": 0,
         "gasoline": 1
        },
        {
         "_deepnote_index_column": 38523,
         "diesel": 1,
         "electric": 0,
         "gasoline": 0
        },
        {
         "_deepnote_index_column": 38524,
         "diesel": 0,
         "electric": 0,
         "gasoline": 1
        },
        {
         "_deepnote_index_column": 38525,
         "diesel": 0,
         "electric": 0,
         "gasoline": 1
        },
        {
         "_deepnote_index_column": 38526,
         "diesel": 0,
         "electric": 0,
         "gasoline": 1
        },
        {
         "_deepnote_index_column": 38527,
         "diesel": 1,
         "electric": 0,
         "gasoline": 0
        },
        {
         "_deepnote_index_column": 38528,
         "diesel": 0,
         "electric": 0,
         "gasoline": 1
        },
        {
         "_deepnote_index_column": 38529,
         "diesel": 0,
         "electric": 0,
         "gasoline": 1
        },
        {
         "_deepnote_index_column": 38530,
         "diesel": 0,
         "electric": 0,
         "gasoline": 1
        }
       ],
       "rows_top": [
        {
         "_deepnote_index_column": 0,
         "diesel": 0,
         "electric": 0,
         "gasoline": 1
        },
        {
         "_deepnote_index_column": 1,
         "diesel": 0,
         "electric": 0,
         "gasoline": 1
        },
        {
         "_deepnote_index_column": 2,
         "diesel": 0,
         "electric": 0,
         "gasoline": 1
        },
        {
         "_deepnote_index_column": 3,
         "diesel": 0,
         "electric": 0,
         "gasoline": 1
        },
        {
         "_deepnote_index_column": 4,
         "diesel": 0,
         "electric": 0,
         "gasoline": 1
        },
        {
         "_deepnote_index_column": 5,
         "diesel": 0,
         "electric": 0,
         "gasoline": 1
        },
        {
         "_deepnote_index_column": 6,
         "diesel": 0,
         "electric": 0,
         "gasoline": 1
        },
        {
         "_deepnote_index_column": 7,
         "diesel": 0,
         "electric": 0,
         "gasoline": 1
        },
        {
         "_deepnote_index_column": 8,
         "diesel": 0,
         "electric": 0,
         "gasoline": 1
        },
        {
         "_deepnote_index_column": 9,
         "diesel": 0,
         "electric": 0,
         "gasoline": 1
        },
        {
         "_deepnote_index_column": 10,
         "diesel": 0,
         "electric": 0,
         "gasoline": 1
        },
        {
         "_deepnote_index_column": 11,
         "diesel": 0,
         "electric": 0,
         "gasoline": 1
        },
        {
         "_deepnote_index_column": 12,
         "diesel": 0,
         "electric": 0,
         "gasoline": 1
        },
        {
         "_deepnote_index_column": 13,
         "diesel": 0,
         "electric": 0,
         "gasoline": 1
        },
        {
         "_deepnote_index_column": 14,
         "diesel": 0,
         "electric": 0,
         "gasoline": 1
        },
        {
         "_deepnote_index_column": 15,
         "diesel": 0,
         "electric": 0,
         "gasoline": 1
        },
        {
         "_deepnote_index_column": 16,
         "diesel": 0,
         "electric": 0,
         "gasoline": 1
        },
        {
         "_deepnote_index_column": 17,
         "diesel": 0,
         "electric": 0,
         "gasoline": 1
        },
        {
         "_deepnote_index_column": 18,
         "diesel": 0,
         "electric": 0,
         "gasoline": 1
        },
        {
         "_deepnote_index_column": 19,
         "diesel": 0,
         "electric": 0,
         "gasoline": 1
        },
        {
         "_deepnote_index_column": 20,
         "diesel": 0,
         "electric": 0,
         "gasoline": 1
        },
        {
         "_deepnote_index_column": 21,
         "diesel": 0,
         "electric": 0,
         "gasoline": 1
        },
        {
         "_deepnote_index_column": 22,
         "diesel": 0,
         "electric": 0,
         "gasoline": 1
        },
        {
         "_deepnote_index_column": 23,
         "diesel": 0,
         "electric": 0,
         "gasoline": 1
        },
        {
         "_deepnote_index_column": 24,
         "diesel": 0,
         "electric": 0,
         "gasoline": 1
        },
        {
         "_deepnote_index_column": 25,
         "diesel": 0,
         "electric": 0,
         "gasoline": 1
        },
        {
         "_deepnote_index_column": 26,
         "diesel": 0,
         "electric": 0,
         "gasoline": 1
        },
        {
         "_deepnote_index_column": 27,
         "diesel": 0,
         "electric": 0,
         "gasoline": 1
        },
        {
         "_deepnote_index_column": 28,
         "diesel": 0,
         "electric": 0,
         "gasoline": 1
        },
        {
         "_deepnote_index_column": 29,
         "diesel": 0,
         "electric": 0,
         "gasoline": 1
        },
        {
         "_deepnote_index_column": 30,
         "diesel": 0,
         "electric": 0,
         "gasoline": 1
        },
        {
         "_deepnote_index_column": 31,
         "diesel": 0,
         "electric": 0,
         "gasoline": 1
        },
        {
         "_deepnote_index_column": 32,
         "diesel": 0,
         "electric": 0,
         "gasoline": 1
        },
        {
         "_deepnote_index_column": 33,
         "diesel": 0,
         "electric": 0,
         "gasoline": 1
        },
        {
         "_deepnote_index_column": 34,
         "diesel": 0,
         "electric": 0,
         "gasoline": 1
        },
        {
         "_deepnote_index_column": 35,
         "diesel": 0,
         "electric": 0,
         "gasoline": 1
        },
        {
         "_deepnote_index_column": 36,
         "diesel": 0,
         "electric": 0,
         "gasoline": 1
        },
        {
         "_deepnote_index_column": 37,
         "diesel": 0,
         "electric": 0,
         "gasoline": 1
        },
        {
         "_deepnote_index_column": 38,
         "diesel": 0,
         "electric": 0,
         "gasoline": 1
        },
        {
         "_deepnote_index_column": 39,
         "diesel": 0,
         "electric": 0,
         "gasoline": 1
        },
        {
         "_deepnote_index_column": 40,
         "diesel": 0,
         "electric": 0,
         "gasoline": 1
        },
        {
         "_deepnote_index_column": 41,
         "diesel": 0,
         "electric": 0,
         "gasoline": 1
        },
        {
         "_deepnote_index_column": 42,
         "diesel": 0,
         "electric": 0,
         "gasoline": 1
        },
        {
         "_deepnote_index_column": 43,
         "diesel": 0,
         "electric": 0,
         "gasoline": 1
        },
        {
         "_deepnote_index_column": 44,
         "diesel": 0,
         "electric": 0,
         "gasoline": 1
        },
        {
         "_deepnote_index_column": 45,
         "diesel": 0,
         "electric": 0,
         "gasoline": 1
        },
        {
         "_deepnote_index_column": 46,
         "diesel": 0,
         "electric": 0,
         "gasoline": 1
        },
        {
         "_deepnote_index_column": 47,
         "diesel": 0,
         "electric": 0,
         "gasoline": 1
        },
        {
         "_deepnote_index_column": 48,
         "diesel": 0,
         "electric": 0,
         "gasoline": 1
        },
        {
         "_deepnote_index_column": 49,
         "diesel": 0,
         "electric": 0,
         "gasoline": 1
        },
        {
         "_deepnote_index_column": 50,
         "diesel": 0,
         "electric": 0,
         "gasoline": 1
        },
        {
         "_deepnote_index_column": 51,
         "diesel": 0,
         "electric": 0,
         "gasoline": 1
        },
        {
         "_deepnote_index_column": 52,
         "diesel": 0,
         "electric": 0,
         "gasoline": 1
        },
        {
         "_deepnote_index_column": 53,
         "diesel": 0,
         "electric": 0,
         "gasoline": 1
        },
        {
         "_deepnote_index_column": 54,
         "diesel": 0,
         "electric": 0,
         "gasoline": 1
        },
        {
         "_deepnote_index_column": 55,
         "diesel": 0,
         "electric": 0,
         "gasoline": 1
        },
        {
         "_deepnote_index_column": 56,
         "diesel": 0,
         "electric": 0,
         "gasoline": 1
        },
        {
         "_deepnote_index_column": 57,
         "diesel": 0,
         "electric": 0,
         "gasoline": 1
        },
        {
         "_deepnote_index_column": 58,
         "diesel": 0,
         "electric": 0,
         "gasoline": 1
        },
        {
         "_deepnote_index_column": 59,
         "diesel": 0,
         "electric": 0,
         "gasoline": 1
        },
        {
         "_deepnote_index_column": 60,
         "diesel": 0,
         "electric": 0,
         "gasoline": 1
        },
        {
         "_deepnote_index_column": 61,
         "diesel": 0,
         "electric": 0,
         "gasoline": 1
        },
        {
         "_deepnote_index_column": 62,
         "diesel": 0,
         "electric": 0,
         "gasoline": 1
        },
        {
         "_deepnote_index_column": 63,
         "diesel": 0,
         "electric": 0,
         "gasoline": 1
        },
        {
         "_deepnote_index_column": 64,
         "diesel": 0,
         "electric": 0,
         "gasoline": 1
        },
        {
         "_deepnote_index_column": 65,
         "diesel": 0,
         "electric": 0,
         "gasoline": 1
        },
        {
         "_deepnote_index_column": 66,
         "diesel": 0,
         "electric": 0,
         "gasoline": 1
        },
        {
         "_deepnote_index_column": 67,
         "diesel": 0,
         "electric": 0,
         "gasoline": 1
        },
        {
         "_deepnote_index_column": 68,
         "diesel": 0,
         "electric": 0,
         "gasoline": 1
        },
        {
         "_deepnote_index_column": 69,
         "diesel": 0,
         "electric": 0,
         "gasoline": 1
        },
        {
         "_deepnote_index_column": 70,
         "diesel": 0,
         "electric": 0,
         "gasoline": 1
        },
        {
         "_deepnote_index_column": 71,
         "diesel": 0,
         "electric": 0,
         "gasoline": 1
        },
        {
         "_deepnote_index_column": 72,
         "diesel": 0,
         "electric": 0,
         "gasoline": 1
        },
        {
         "_deepnote_index_column": 73,
         "diesel": 0,
         "electric": 0,
         "gasoline": 1
        },
        {
         "_deepnote_index_column": 74,
         "diesel": 0,
         "electric": 0,
         "gasoline": 1
        },
        {
         "_deepnote_index_column": 75,
         "diesel": 0,
         "electric": 0,
         "gasoline": 1
        },
        {
         "_deepnote_index_column": 76,
         "diesel": 0,
         "electric": 0,
         "gasoline": 1
        },
        {
         "_deepnote_index_column": 77,
         "diesel": 0,
         "electric": 0,
         "gasoline": 1
        },
        {
         "_deepnote_index_column": 78,
         "diesel": 0,
         "electric": 0,
         "gasoline": 1
        },
        {
         "_deepnote_index_column": 79,
         "diesel": 0,
         "electric": 0,
         "gasoline": 1
        },
        {
         "_deepnote_index_column": 80,
         "diesel": 0,
         "electric": 0,
         "gasoline": 1
        },
        {
         "_deepnote_index_column": 81,
         "diesel": 0,
         "electric": 0,
         "gasoline": 1
        },
        {
         "_deepnote_index_column": 82,
         "diesel": 0,
         "electric": 0,
         "gasoline": 1
        },
        {
         "_deepnote_index_column": 83,
         "diesel": 0,
         "electric": 0,
         "gasoline": 1
        },
        {
         "_deepnote_index_column": 84,
         "diesel": 0,
         "electric": 0,
         "gasoline": 1
        },
        {
         "_deepnote_index_column": 85,
         "diesel": 0,
         "electric": 0,
         "gasoline": 1
        },
        {
         "_deepnote_index_column": 86,
         "diesel": 0,
         "electric": 0,
         "gasoline": 1
        },
        {
         "_deepnote_index_column": 87,
         "diesel": 0,
         "electric": 0,
         "gasoline": 1
        },
        {
         "_deepnote_index_column": 88,
         "diesel": 0,
         "electric": 0,
         "gasoline": 1
        },
        {
         "_deepnote_index_column": 89,
         "diesel": 0,
         "electric": 0,
         "gasoline": 1
        },
        {
         "_deepnote_index_column": 90,
         "diesel": 0,
         "electric": 0,
         "gasoline": 1
        },
        {
         "_deepnote_index_column": 91,
         "diesel": 0,
         "electric": 0,
         "gasoline": 1
        },
        {
         "_deepnote_index_column": 92,
         "diesel": 0,
         "electric": 0,
         "gasoline": 1
        },
        {
         "_deepnote_index_column": 93,
         "diesel": 0,
         "electric": 0,
         "gasoline": 1
        },
        {
         "_deepnote_index_column": 94,
         "diesel": 0,
         "electric": 0,
         "gasoline": 1
        },
        {
         "_deepnote_index_column": 95,
         "diesel": 0,
         "electric": 0,
         "gasoline": 1
        },
        {
         "_deepnote_index_column": 96,
         "diesel": 0,
         "electric": 0,
         "gasoline": 1
        },
        {
         "_deepnote_index_column": 97,
         "diesel": 0,
         "electric": 0,
         "gasoline": 1
        },
        {
         "_deepnote_index_column": 98,
         "diesel": 0,
         "electric": 0,
         "gasoline": 1
        },
        {
         "_deepnote_index_column": 99,
         "diesel": 0,
         "electric": 0,
         "gasoline": 1
        },
        {
         "_deepnote_index_column": 100,
         "diesel": 0,
         "electric": 0,
         "gasoline": 1
        },
        {
         "_deepnote_index_column": 101,
         "diesel": 0,
         "electric": 0,
         "gasoline": 1
        },
        {
         "_deepnote_index_column": 102,
         "diesel": 0,
         "electric": 0,
         "gasoline": 1
        },
        {
         "_deepnote_index_column": 103,
         "diesel": 0,
         "electric": 0,
         "gasoline": 1
        },
        {
         "_deepnote_index_column": 104,
         "diesel": 0,
         "electric": 0,
         "gasoline": 1
        },
        {
         "_deepnote_index_column": 105,
         "diesel": 0,
         "electric": 0,
         "gasoline": 1
        },
        {
         "_deepnote_index_column": 106,
         "diesel": 0,
         "electric": 0,
         "gasoline": 1
        },
        {
         "_deepnote_index_column": 107,
         "diesel": 0,
         "electric": 0,
         "gasoline": 1
        },
        {
         "_deepnote_index_column": 108,
         "diesel": 0,
         "electric": 0,
         "gasoline": 1
        },
        {
         "_deepnote_index_column": 109,
         "diesel": 0,
         "electric": 0,
         "gasoline": 1
        },
        {
         "_deepnote_index_column": 110,
         "diesel": 0,
         "electric": 0,
         "gasoline": 1
        },
        {
         "_deepnote_index_column": 111,
         "diesel": 0,
         "electric": 0,
         "gasoline": 1
        },
        {
         "_deepnote_index_column": 112,
         "diesel": 0,
         "electric": 0,
         "gasoline": 1
        },
        {
         "_deepnote_index_column": 113,
         "diesel": 0,
         "electric": 0,
         "gasoline": 1
        },
        {
         "_deepnote_index_column": 114,
         "diesel": 0,
         "electric": 0,
         "gasoline": 1
        },
        {
         "_deepnote_index_column": 115,
         "diesel": 0,
         "electric": 0,
         "gasoline": 1
        },
        {
         "_deepnote_index_column": 116,
         "diesel": 0,
         "electric": 0,
         "gasoline": 1
        },
        {
         "_deepnote_index_column": 117,
         "diesel": 0,
         "electric": 0,
         "gasoline": 1
        },
        {
         "_deepnote_index_column": 118,
         "diesel": 0,
         "electric": 0,
         "gasoline": 1
        },
        {
         "_deepnote_index_column": 119,
         "diesel": 0,
         "electric": 0,
         "gasoline": 1
        },
        {
         "_deepnote_index_column": 120,
         "diesel": 0,
         "electric": 0,
         "gasoline": 1
        },
        {
         "_deepnote_index_column": 121,
         "diesel": 0,
         "electric": 0,
         "gasoline": 1
        },
        {
         "_deepnote_index_column": 122,
         "diesel": 0,
         "electric": 0,
         "gasoline": 1
        },
        {
         "_deepnote_index_column": 123,
         "diesel": 0,
         "electric": 0,
         "gasoline": 1
        },
        {
         "_deepnote_index_column": 124,
         "diesel": 0,
         "electric": 0,
         "gasoline": 1
        },
        {
         "_deepnote_index_column": 125,
         "diesel": 0,
         "electric": 0,
         "gasoline": 1
        },
        {
         "_deepnote_index_column": 126,
         "diesel": 0,
         "electric": 0,
         "gasoline": 1
        },
        {
         "_deepnote_index_column": 127,
         "diesel": 0,
         "electric": 0,
         "gasoline": 1
        },
        {
         "_deepnote_index_column": 128,
         "diesel": 0,
         "electric": 0,
         "gasoline": 1
        },
        {
         "_deepnote_index_column": 129,
         "diesel": 0,
         "electric": 0,
         "gasoline": 1
        },
        {
         "_deepnote_index_column": 130,
         "diesel": 0,
         "electric": 0,
         "gasoline": 1
        },
        {
         "_deepnote_index_column": 131,
         "diesel": 0,
         "electric": 0,
         "gasoline": 1
        },
        {
         "_deepnote_index_column": 132,
         "diesel": 0,
         "electric": 0,
         "gasoline": 1
        },
        {
         "_deepnote_index_column": 133,
         "diesel": 0,
         "electric": 0,
         "gasoline": 1
        },
        {
         "_deepnote_index_column": 134,
         "diesel": 0,
         "electric": 0,
         "gasoline": 1
        },
        {
         "_deepnote_index_column": 135,
         "diesel": 0,
         "electric": 0,
         "gasoline": 1
        },
        {
         "_deepnote_index_column": 136,
         "diesel": 1,
         "electric": 0,
         "gasoline": 0
        },
        {
         "_deepnote_index_column": 137,
         "diesel": 0,
         "electric": 0,
         "gasoline": 1
        },
        {
         "_deepnote_index_column": 138,
         "diesel": 0,
         "electric": 0,
         "gasoline": 1
        },
        {
         "_deepnote_index_column": 139,
         "diesel": 0,
         "electric": 0,
         "gasoline": 1
        },
        {
         "_deepnote_index_column": 140,
         "diesel": 0,
         "electric": 0,
         "gasoline": 1
        },
        {
         "_deepnote_index_column": 141,
         "diesel": 0,
         "electric": 0,
         "gasoline": 1
        },
        {
         "_deepnote_index_column": 142,
         "diesel": 0,
         "electric": 0,
         "gasoline": 1
        },
        {
         "_deepnote_index_column": 143,
         "diesel": 0,
         "electric": 0,
         "gasoline": 1
        },
        {
         "_deepnote_index_column": 144,
         "diesel": 0,
         "electric": 0,
         "gasoline": 1
        },
        {
         "_deepnote_index_column": 145,
         "diesel": 0,
         "electric": 0,
         "gasoline": 1
        },
        {
         "_deepnote_index_column": 146,
         "diesel": 0,
         "electric": 0,
         "gasoline": 1
        },
        {
         "_deepnote_index_column": 147,
         "diesel": 0,
         "electric": 0,
         "gasoline": 1
        },
        {
         "_deepnote_index_column": 148,
         "diesel": 0,
         "electric": 0,
         "gasoline": 1
        },
        {
         "_deepnote_index_column": 149,
         "diesel": 0,
         "electric": 0,
         "gasoline": 1
        },
        {
         "_deepnote_index_column": 150,
         "diesel": 0,
         "electric": 0,
         "gasoline": 1
        },
        {
         "_deepnote_index_column": 151,
         "diesel": 0,
         "electric": 0,
         "gasoline": 1
        },
        {
         "_deepnote_index_column": 152,
         "diesel": 0,
         "electric": 0,
         "gasoline": 1
        },
        {
         "_deepnote_index_column": 153,
         "diesel": 0,
         "electric": 0,
         "gasoline": 1
        },
        {
         "_deepnote_index_column": 154,
         "diesel": 0,
         "electric": 0,
         "gasoline": 1
        },
        {
         "_deepnote_index_column": 155,
         "diesel": 0,
         "electric": 0,
         "gasoline": 1
        },
        {
         "_deepnote_index_column": 156,
         "diesel": 0,
         "electric": 0,
         "gasoline": 1
        },
        {
         "_deepnote_index_column": 157,
         "diesel": 0,
         "electric": 0,
         "gasoline": 1
        },
        {
         "_deepnote_index_column": 158,
         "diesel": 0,
         "electric": 0,
         "gasoline": 1
        },
        {
         "_deepnote_index_column": 159,
         "diesel": 0,
         "electric": 0,
         "gasoline": 1
        },
        {
         "_deepnote_index_column": 160,
         "diesel": 0,
         "electric": 0,
         "gasoline": 1
        },
        {
         "_deepnote_index_column": 161,
         "diesel": 1,
         "electric": 0,
         "gasoline": 0
        },
        {
         "_deepnote_index_column": 162,
         "diesel": 0,
         "electric": 0,
         "gasoline": 1
        },
        {
         "_deepnote_index_column": 163,
         "diesel": 0,
         "electric": 0,
         "gasoline": 1
        },
        {
         "_deepnote_index_column": 164,
         "diesel": 0,
         "electric": 0,
         "gasoline": 1
        },
        {
         "_deepnote_index_column": 165,
         "diesel": 0,
         "electric": 0,
         "gasoline": 1
        }
       ]
      },
      "text/html": [
       "<div>\n",
       "<style scoped>\n",
       "    .dataframe tbody tr th:only-of-type {\n",
       "        vertical-align: middle;\n",
       "    }\n",
       "\n",
       "    .dataframe tbody tr th {\n",
       "        vertical-align: top;\n",
       "    }\n",
       "\n",
       "    .dataframe thead th {\n",
       "        text-align: right;\n",
       "    }\n",
       "</style>\n",
       "<table border=\"1\" class=\"dataframe\">\n",
       "  <thead>\n",
       "    <tr style=\"text-align: right;\">\n",
       "      <th></th>\n",
       "      <th>diesel</th>\n",
       "      <th>electric</th>\n",
       "      <th>gasoline</th>\n",
       "    </tr>\n",
       "  </thead>\n",
       "  <tbody>\n",
       "    <tr>\n",
       "      <th>0</th>\n",
       "      <td>0</td>\n",
       "      <td>0</td>\n",
       "      <td>1</td>\n",
       "    </tr>\n",
       "    <tr>\n",
       "      <th>1</th>\n",
       "      <td>0</td>\n",
       "      <td>0</td>\n",
       "      <td>1</td>\n",
       "    </tr>\n",
       "    <tr>\n",
       "      <th>2</th>\n",
       "      <td>0</td>\n",
       "      <td>0</td>\n",
       "      <td>1</td>\n",
       "    </tr>\n",
       "    <tr>\n",
       "      <th>3</th>\n",
       "      <td>0</td>\n",
       "      <td>0</td>\n",
       "      <td>1</td>\n",
       "    </tr>\n",
       "    <tr>\n",
       "      <th>4</th>\n",
       "      <td>0</td>\n",
       "      <td>0</td>\n",
       "      <td>1</td>\n",
       "    </tr>\n",
       "    <tr>\n",
       "      <th>...</th>\n",
       "      <td>...</td>\n",
       "      <td>...</td>\n",
       "      <td>...</td>\n",
       "    </tr>\n",
       "    <tr>\n",
       "      <th>38526</th>\n",
       "      <td>0</td>\n",
       "      <td>0</td>\n",
       "      <td>1</td>\n",
       "    </tr>\n",
       "    <tr>\n",
       "      <th>38527</th>\n",
       "      <td>1</td>\n",
       "      <td>0</td>\n",
       "      <td>0</td>\n",
       "    </tr>\n",
       "    <tr>\n",
       "      <th>38528</th>\n",
       "      <td>0</td>\n",
       "      <td>0</td>\n",
       "      <td>1</td>\n",
       "    </tr>\n",
       "    <tr>\n",
       "      <th>38529</th>\n",
       "      <td>0</td>\n",
       "      <td>0</td>\n",
       "      <td>1</td>\n",
       "    </tr>\n",
       "    <tr>\n",
       "      <th>38530</th>\n",
       "      <td>0</td>\n",
       "      <td>0</td>\n",
       "      <td>1</td>\n",
       "    </tr>\n",
       "  </tbody>\n",
       "</table>\n",
       "<p>38531 rows × 3 columns</p>\n",
       "</div>"
      ],
      "text/plain": [
       "       diesel  electric  gasoline\n",
       "0           0         0         1\n",
       "1           0         0         1\n",
       "2           0         0         1\n",
       "3           0         0         1\n",
       "4           0         0         1\n",
       "...       ...       ...       ...\n",
       "38526       0         0         1\n",
       "38527       1         0         0\n",
       "38528       0         0         1\n",
       "38529       0         0         1\n",
       "38530       0         0         1\n",
       "\n",
       "[38531 rows x 3 columns]"
      ]
     },
     "execution_count": 3,
     "metadata": {},
     "output_type": "execute_result"
    }
   ],
   "source": [
    "pd.get_dummies(df['engine_type'])"
   ]
  },
  {
   "cell_type": "markdown",
   "metadata": {
    "cell_id": "00004-cb10db59-6af8-4367-b912-1766e45d62e7",
    "deepnote_cell_type": "markdown",
    "tags": []
   },
   "source": [
    "One-hot con Scikit: https://scikit-learn.org/stable/modules/preprocessing.html#encoding-categorical-features "
   ]
  },
  {
   "cell_type": "code",
   "execution_count": null,
   "metadata": {
    "cell_id": "00004-76441921-cba0-4cd5-a9d6-f355d99d36cc",
    "deepnote_cell_type": "code",
    "deepnote_to_be_reexecuted": false,
    "execution_millis": 19,
    "execution_start": 1620312938247,
    "source_hash": "200c99",
    "tags": []
   },
   "outputs": [],
   "source": [
    "import sklearn.preprocessing as preprocessing\n",
    "encoder = preprocessing.OneHotEncoder(handle_unknown='ignore')"
   ]
  },
  {
   "cell_type": "code",
   "execution_count": null,
   "metadata": {
    "cell_id": "00006-cad598dd-5029-4979-bc58-cbbfbd51c57b",
    "deepnote_cell_type": "code",
    "deepnote_to_be_reexecuted": false,
    "execution_millis": 9,
    "execution_start": 1620312978475,
    "output_cleared": false,
    "source_hash": "5fab404e",
    "tags": []
   },
   "outputs": [
    {
     "data": {
      "text/plain": [
       "OneHotEncoder(handle_unknown='ignore')"
      ]
     },
     "execution_count": 6,
     "metadata": {},
     "output_type": "execute_result"
    }
   ],
   "source": [
    "encoder.fit(df[['engine_type']].values)"
   ]
  },
  {
   "cell_type": "code",
   "execution_count": null,
   "metadata": {
    "cell_id": "00007-167649a6-6f3d-4ac0-8d22-cb948ea9de5d",
    "deepnote_cell_type": "code",
    "deepnote_to_be_reexecuted": false,
    "execution_millis": 8,
    "execution_start": 1620313043886,
    "output_cleared": false,
    "source_hash": "ea0aa29e",
    "tags": []
   },
   "outputs": [
    {
     "data": {
      "text/plain": [
       "array([[0., 0., 1.],\n",
       "       [1., 0., 0.],\n",
       "       [0., 0., 0.]])"
      ]
     },
     "execution_count": 8,
     "metadata": {},
     "output_type": "execute_result"
    }
   ],
   "source": [
    "encoder.transform([['gasoline'],['diesel'],['aceite']]).toarray()"
   ]
  },
  {
   "cell_type": "markdown",
   "metadata": {
    "cell_id": "00008-ed519790-e6f0-4b2a-a882-4bfde7a81695",
    "deepnote_cell_type": "markdown",
    "tags": []
   },
   "source": [
    "Variables numéricas discretas pueden ser codificadas como categoricas"
   ]
  },
  {
   "cell_type": "code",
   "execution_count": null,
   "metadata": {
    "cell_id": "00008-67b61c47-f6ed-411f-b1d7-aedb7e863332",
    "deepnote_cell_type": "code",
    "deepnote_to_be_reexecuted": false,
    "execution_millis": 17,
    "execution_start": 1620313108807,
    "output_cleared": false,
    "source_hash": "ee182087",
    "tags": []
   },
   "outputs": [
    {
     "data": {
      "text/plain": [
       "OneHotEncoder(handle_unknown='ignore')"
      ]
     },
     "execution_count": 10,
     "metadata": {},
     "output_type": "execute_result"
    }
   ],
   "source": [
    "encoder.fit(df[['year_produced']].values)"
   ]
  },
  {
   "cell_type": "code",
   "execution_count": null,
   "metadata": {
    "cell_id": "00009-1cf839ac-cb6d-4930-a8e6-5349b55b1d88",
    "deepnote_cell_type": "code",
    "deepnote_to_be_reexecuted": false,
    "execution_millis": 11,
    "execution_start": 1620313184680,
    "output_cleared": false,
    "source_hash": "db2dddce",
    "tags": []
   },
   "outputs": [
    {
     "data": {
      "text/plain": [
       "array([[0., 0., 0., 0., 0., 0., 0., 0., 0., 0., 0., 0., 0., 0., 0., 0.,\n",
       "        0., 0., 0., 0., 0., 0., 0., 0., 0., 0., 0., 0., 0., 0., 0., 0.,\n",
       "        0., 0., 0., 0., 0., 0., 0., 0., 0., 0., 0., 0., 0., 0., 0., 0.,\n",
       "        0., 0., 0., 0., 0., 0., 0., 0., 0., 0., 0., 0., 1., 0., 0., 0.],\n",
       "       [0., 0., 0., 0., 0., 0., 0., 0., 0., 0., 0., 0., 0., 0., 0., 0.,\n",
       "        0., 0., 0., 0., 0., 0., 0., 0., 0., 0., 0., 0., 0., 0., 0., 0.,\n",
       "        0., 0., 0., 0., 0., 0., 0., 0., 0., 0., 0., 0., 0., 0., 0., 0.,\n",
       "        0., 0., 0., 0., 0., 1., 0., 0., 0., 0., 0., 0., 0., 0., 0., 0.],\n",
       "       [0., 0., 0., 0., 0., 0., 0., 0., 0., 0., 0., 0., 0., 0., 0., 0.,\n",
       "        0., 0., 0., 0., 0., 0., 0., 0., 0., 0., 0., 0., 0., 0., 0., 0.,\n",
       "        0., 0., 0., 0., 0., 0., 0., 0., 0., 0., 0., 0., 0., 0., 0., 0.,\n",
       "        0., 0., 0., 0., 0., 0., 0., 0., 0., 0., 0., 0., 0., 0., 0., 0.]])"
      ]
     },
     "execution_count": 13,
     "metadata": {},
     "output_type": "execute_result"
    }
   ],
   "source": [
    "encoder.transform([[2016],[2009],[190]]).toarray()"
   ]
  },
  {
   "cell_type": "markdown",
   "metadata": {
    "created_in_deepnote_cell": true,
    "deepnote_cell_type": "markdown",
    "tags": []
   },
   "source": [
    "<a style='text-decoration:none;line-height:16px;display:flex;color:#5B5B62;padding:10px;justify-content:end;' href='https://deepnote.com?utm_source=created-in-deepnote-cell&projectId=3f569948-e9a8-454f-8f4d-a27aa1610a87' target=\"_blank\">\n",
    "<img alt='Created in deepnote.com' style='display:inline;max-height:16px;margin:0px;margin-right:7.5px;' src='data:image/svg+xml;base64,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' > </img>\n",
    "Created in <span style='font-weight:600;margin-left:4px;'>Deepnote</span></a>"
   ]
  }
 ],
 "metadata": {
  "deepnote": {
   "is_reactive": false
  },
  "deepnote_execution_queue": [],
  "deepnote_notebook_id": "6d476368-14b6-474f-8ae9-ba16eefffcf2",
  "kernelspec": {
   "display_name": "Python 3 (ipykernel)",
   "language": "python",
   "name": "python3"
  },
  "language_info": {
   "codemirror_mode": {
    "name": "ipython",
    "version": 3
   },
   "file_extension": ".py",
   "mimetype": "text/x-python",
   "name": "python",
   "nbconvert_exporter": "python",
   "pygments_lexer": "ipython3",
   "version": "3.9.5"
  }
 },
 "nbformat": 4,
 "nbformat_minor": 4
}
